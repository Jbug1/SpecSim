{
 "cells": [
  {
   "cell_type": "code",
   "execution_count": 1,
   "id": "7f65d6f8",
   "metadata": {
    "ExecuteTime": {
     "end_time": "2023-09-14T00:43:08.258465Z",
     "start_time": "2023-09-14T00:43:06.644319Z"
    }
   },
   "outputs": [],
   "source": [
    "#import datasetBuilder\n",
    "import tests\n",
    "import importlib\n",
    "import numpy as np\n",
    "import warnings\n",
    "warnings.filterwarnings('ignore')\n",
    "from importlib import reload\n",
    "import math_distance\n",
    "import spectral_similarity\n",
    "import pandas as pd\n",
    "import datasetBuilder\n",
    "import tools\n",
    "import scipy\n"
   ]
  },
  {
   "cell_type": "code",
   "execution_count": 2,
   "id": "5af6fcc0",
   "metadata": {
    "ExecuteTime": {
     "end_time": "2023-09-14T00:43:33.700509Z",
     "start_time": "2023-09-14T00:43:08.275461Z"
    }
   },
   "outputs": [],
   "source": [
    "\n",
    "target=datasetBuilder.get_target_df(\"C:\\\\Users\\\\jonah\\\\School\\\\specent\\\\nist_out.MSP\")\n",
    "# inchibases=list(set(list(target['inchi_base'])))\n",
    "# inchibases = np.random.permutation(inchibases)\n",
    "\n",
    "# first_bases = inchibases[:int(len(inchibases)/2)]\n",
    "# second_bases = inchibases[int(len(inchibases)/2):]\n",
    "\n",
    "# first_target = target[np.isin(target['inchi_base'],first_bases)]\n",
    "# second_target = target[np.isin(target['inchi_base'],second_bases)]\n"
   ]
  },
  {
   "cell_type": "code",
   "execution_count": 3,
   "id": "bda901b5",
   "metadata": {
    "ExecuteTime": {
     "end_time": "2023-09-14T00:43:53.448425Z",
     "start_time": "2023-09-14T00:43:33.749414Z"
    }
   },
   "outputs": [],
   "source": [
    "first_bases = np.load('C:\\\\Users\\\\jonah\\\\projects\\\\specsim_res\\\\first_bases.npy')\n",
    "second_bases = np.load('C:\\\\Users\\\\jonah\\\\projects\\\\specsim_res\\\\second_bases.npy')\n",
    "first_target = target[np.isin(target['inchi_base'],first_bases)]\n",
    "#second_target = target[np.isin(target['inchi_base'],second_bases)]\n"
   ]
  },
  {
   "cell_type": "code",
   "execution_count": null,
   "id": "debbd446",
   "metadata": {
    "ExecuteTime": {
     "start_time": "2023-09-14T00:43:08.573Z"
    }
   },
   "outputs": [],
   "source": [
    "reload(datasetBuilder)\n",
    "reload(tools)\n",
    "noise_threshes=[0.01,0.1,0.2]\n",
    "centroid_tolerance_vals = [0.05,1]\n",
    "centroid_tolerance_types=['da','ppm']\n",
    "powers=[0.25,1,3,'ent']\n",
    "sim_methods = ['lorentzian','max_entropy','squared_chord','lorentzian_jonah','rbf','ave_bhattacharya_2','max_bhattacharya_2']\n",
    "\n",
    "matches = datasetBuilder.create_matches_df(first_target,10,100,1e6)\n",
    "og_matches = matches.copy()\n",
    "datasetBuilder.add_noises_to_matches(matches, scale_ratio=0.5, mult=200)\n",
    "\n",
    "print(f'match len predrop {len(matches)}')\n",
    "matches=matches.dropna(how='any')\n",
    "print(f'match len postdrop {len(matches)}')\n",
    "\n",
    "cleaned, mod = datasetBuilder.create_model_dataset(matches, sim_methods = sim_methods, noise_threshes=noise_threshes, centroid_tolerance_vals=centroid_tolerance_vals, centroid_tolerance_types=centroid_tolerance_types,powers=powers)\n",
    "mod.to_csv('C:\\\\Users\\\\jonah\\\\projects\\\\specsim_res\\\\noise_first_0.5_200.csv')"
   ]
  },
  {
   "cell_type": "code",
   "execution_count": null,
   "id": "f6884435",
   "metadata": {
    "ExecuteTime": {
     "start_time": "2023-09-14T00:43:09.171Z"
    }
   },
   "outputs": [],
   "source": [
    "del(matches)\n",
    "del(mod)\n",
    "del (first_target)\n",
    "second_target = target[np.isin(target['inchi_base'],second_bases)]\n",
    "\n",
    "noise_threshes=[0.01,0.1,0.2]\n",
    "centroid_tolerance_vals = [0.05,1]\n",
    "centroid_tolerance_types=['da','ppm']\n",
    "powers=[0.25,1,3,'ent']\n",
    "sim_methods = ['lorentzian','max_entropy','squared_chord','lorentzian_jonah','rbf','ave_bhattacharya_2','max_bhattacharya_2']\n",
    "\n",
    "matches = datasetBuilder.create_matches_df(second_target,10,100,1e6)\n",
    "datasetBuilder.add_noises_to_matches(matches, scale_ratio=0.5, mult=200)\n",
    "print(f'match len predrop {len(matches)}')\n",
    "matches=matches.dropna(how='any')\n",
    "print(f'match len postdrop {len(matches)}')\n",
    "\n",
    "mod = datasetBuilder.create_model_dataset(matches, sim_methods = sim_methods, noise_threshes=noise_threshes, centroid_tolerance_vals=centroid_tolerance_vals, centroid_tolerance_types=centroid_tolerance_types,powers=powers)\n",
    "mod.to_csv('C:\\\\Users\\\\jonah\\\\projects\\\\specsim_res\\\\noise_second_0.5_200.csv')\n",
    "del(matches)\n",
    "del(mod)"
   ]
  },
  {
   "cell_type": "code",
   "execution_count": null,
   "id": "10df385c",
   "metadata": {},
   "outputs": [],
   "source": [
    "def generate_keep_indices(noise_threshes, centroid_tolerance_vals, powers, spec_features, spec_change_features, sim_methods, any_=False, nonspecs=False, init_spec=False):\n",
    "\n",
    "    if nonspecs:\n",
    "        keep_indices= list(range(14))\n",
    "    else:\n",
    "        keep_indices=list()\n",
    "\n",
    "    if init_spec:\n",
    "        keep_indices+=list(range(14,22))\n",
    "\n",
    "    ind=22\n",
    "    for i in noise_threshes:\n",
    "        for j in centroid_tolerance_vals:\n",
    "            for k in powers:\n",
    "                \n",
    "                for l in spec_features:\n",
    "                    if any_:\n",
    "                        if True in [i,j,k,l]:\n",
    "                            keep_indices.append(ind)\n",
    "                    else:\n",
    "                        if i==j==k==l==True:\n",
    "                            keep_indices.append(ind)\n",
    "                    ind+=1\n",
    "\n",
    "                for l in spec_change_features:\n",
    "                    if any_:\n",
    "                        if True in [i,j,k,l]:\n",
    "                            keep_indices.append(ind)\n",
    "                    else:\n",
    "                        if i==j==k==l==True:\n",
    "                            keep_indices.append(ind)\n",
    "                    ind+=1\n",
    "\n",
    "\n",
    "                for l in sim_methods:\n",
    "                    \n",
    "                    if any_:\n",
    "                        if True in [i,j,k,l]:\n",
    "                            keep_indices.append(ind)\n",
    "                    else:\n",
    "                        if i==j==k==l==True:\n",
    "                            print(ind)\n",
    "                            keep_indices.append(ind)\n",
    "                    ind+=1\n",
    "\n",
    "    return keep_indices\n"
   ]
  },
  {
   "cell_type": "code",
   "execution_count": null,
   "id": "efda3cc2",
   "metadata": {},
   "outputs": [],
   "source": [
    "16+8+(8+8+7)*24"
   ]
  },
  {
   "cell_type": "code",
   "execution_count": null,
   "id": "b7e35d74",
   "metadata": {},
   "outputs": [],
   "source": [
    "noise_threshes=[True,False, False]\n",
    "centroid_tolerance_values=[True,False]\n",
    "powers=[True,False,False,False]\n",
    "spec_features=[False,False,False,False,False,False,False,True]#8\n",
    "spec_change_features = [False,False,False,False,False,False,False,True]#8\n",
    "sim_methods=[True, True, False, False, False, True,True]#7\n",
    "\n",
    "generate_keep_indices(noise_threshes, centroid_tolerance_values, powers, spec_features, spec_change_features, sim_methods, any_=True)\n",
    "\n"
   ]
  },
  {
   "cell_type": "code",
   "execution_count": null,
   "id": "2c28a52c",
   "metadata": {},
   "outputs": [],
   "source": [
    "import scipy\n",
    "a=np.array([[1,2],[3,4]])\n",
    "\n",
    "scipy.stats.entropy(a[:,1])"
   ]
  },
  {
   "cell_type": "code",
   "execution_count": null,
   "id": "ee01cb02",
   "metadata": {},
   "outputs": [],
   "source": [
    "\n"
   ]
  },
  {
   "cell_type": "code",
   "execution_count": null,
   "id": "990dab80",
   "metadata": {},
   "outputs": [],
   "source": []
  },
  {
   "cell_type": "code",
   "execution_count": null,
   "id": "d5c4e997",
   "metadata": {},
   "outputs": [],
   "source": [
    "def zero_one_loss(preds, true):\n",
    "    \n",
    "    preds=np.array(preds).squeeze()\n",
    "    true=np.array(true).squeeze()\n",
    "    \n",
    "    return sum(abs(true-preds))/len(true)"
   ]
  },
  {
   "cell_type": "code",
   "execution_count": null,
   "id": "25e0aecb",
   "metadata": {},
   "outputs": [],
   "source": [
    "from sklearn.ensemble import GradientBoostingClassifier as gbc\n",
    "\n",
    "def best_model_select(models, train, val, test):\n",
    "    \n",
    "    train['match']=train['match'].astype(int)\n",
    "    val['match']=val['match'].astype(int)\n",
    "    test['match']=test['match'].astype(int)\n",
    "\n",
    "    for model in models:\n",
    "\n",
    "        model.fit(train.iloc[:,:-1], train.iloc[:,-1])\n",
    "\n",
    "    best_model = models[0]\n",
    "    best_error=zero_one_loss(models[0].predict(val.iloc[:,:-1]),val.iloc[:,-1:].to_numpy())\n",
    "\n",
    "    for model in models[1:]:\n",
    "\n",
    "        val_error = zero_one_loss(model.predict(val.iloc[:,:-1]),val.iloc[:,-1:].to_numpy())\n",
    "\n",
    "        if val_error < best_error:\n",
    "            best_model=model\n",
    "            best_error = val_error\n",
    "\n",
    "    return best_model, zero_one_loss(best_model.predict(test.iloc[:,:-1]),test.iloc[:,-1:].to_numpy())\n",
    "\n"
   ]
  },
  {
   "cell_type": "code",
   "execution_count": null,
   "id": "5e7f3593",
   "metadata": {},
   "outputs": [],
   "source": [
    "import scipy.sparse as sp\n",
    "\n",
    "x,y = sp.coo_matrix(mod.isnull()).nonzero()\n",
    "print(list(zip(x,y)))\n"
   ]
  },
  {
   "cell_type": "code",
   "execution_count": null,
   "id": "1653fc03",
   "metadata": {},
   "outputs": [],
   "source": [
    "from sklearn.ensemble import GradientBoostingClassifier as gbc\n",
    "from sklearn.ensemble import RandomForestClassifier as rfc\n",
    "models = [gbc(n_estimators=20),gbc(n_estimators=20),gbc(n_estimators=20)]\n",
    "\n",
    "model, err = best_model_select(models, mod, mod, mod) "
   ]
  },
  {
   "cell_type": "code",
   "execution_count": null,
   "id": "3213dbd6",
   "metadata": {},
   "outputs": [],
   "source": [
    "err"
   ]
  },
  {
   "cell_type": "code",
   "execution_count": null,
   "id": "4ef0eccc",
   "metadata": {},
   "outputs": [],
   "source": [
    "\n",
    "\n",
    "noise_thresholds=[0.01]\n",
    "centroid_values = [0.05]\n",
    "\n",
    "target = datasetBuilder.get_target_df_with_noise(\"C:\\\\Users\\\\jonah\\\\School\\\\specent\\\\nist_out.MSP\", noise_thresholds, centroid_values, std=5, lam=3)\n",
    "\n",
    "\n",
    "\n",
    "\n"
   ]
  },
  {
   "cell_type": "code",
   "execution_count": null,
   "id": "36c330bb",
   "metadata": {},
   "outputs": [],
   "source": [
    "import math\n",
    "np.log(math.e**3/math.e**4)"
   ]
  },
  {
   "cell_type": "code",
   "execution_count": null,
   "id": "734494d5",
   "metadata": {},
   "outputs": [],
   "source": [
    "5**(-3)==1/125"
   ]
  },
  {
   "cell_type": "code",
   "execution_count": null,
   "id": "f059e982",
   "metadata": {},
   "outputs": [],
   "source": [
    "a=pd.DataFrame([[1,2,3],[4,5,6]])\n",
    "a.columns=[1,2,3]\n",
    "\n",
    "def add23(boop, bop, bip):\n",
    "\n",
    "\n",
    "    return np.array([boop+bop+bip,5])\n",
    "\n",
    "yool= a.apply(lambda x: add23(x[2],x[3], bip=4), axis=1, result_type='expand')\n",
    "\n",
    "yool"
   ]
  },
  {
   "cell_type": "code",
   "execution_count": null,
   "id": "6a1c9423",
   "metadata": {},
   "outputs": [],
   "source": [
    "a"
   ]
  },
  {
   "cell_type": "code",
   "execution_count": null,
   "id": "91c6c2b3",
   "metadata": {},
   "outputs": [],
   "source": [
    "reload(datasetBuilder)\n",
    "print(yool)\n",
    "for i in range(1000):\n",
    "    datasetBuilder.add_poisson_noise_to_spectrum(yool, precursor_mz = 4, noise_peaks = 2, lam=3)\n",
    "    \n",
    "print(yool)"
   ]
  },
  {
   "cell_type": "code",
   "execution_count": null,
   "id": "4d2ca2fa",
   "metadata": {
    "ExecuteTime": {
     "end_time": "2023-08-13T03:48:05.128401Z",
     "start_time": "2023-08-13T03:48:01.114846Z"
    }
   },
   "outputs": [],
   "source": [
    "noise_thresholds=[0.0,0.01,0.05,0.1,0.2]\n",
    "centroid_values = [0.01,0.05,0.1]\n",
    "\n",
    "target = datasetBuilder.get_target_df(\"C:\\\\Users\\\\jonah\\\\School\\\\specent\\\\nist_out.MSP\", noise_thresholds, centroid_values)\n",
    "target=target.sample(frac=1)"
   ]
  },
  {
   "cell_type": "code",
   "execution_count": null,
   "id": "76219637",
   "metadata": {},
   "outputs": [],
   "source": [
    "mod_dataset = datasetBuilder.create_model_dataset(target, 10, sim_methods = ['lorentzian','max_entropy','squared_chord','lorentzian_jonah','rbf','perc_peaks_in_common','ave_bhattacharya_2','max_bhattacharya_2'], limit_rows=2000000)\n",
    "mod_dataset.to_csv(\"C:\\\\Users\\\\jonah\\\\projects\\\\SpecSim\\\\mod_dataset_powers.csv\")"
   ]
  },
  {
   "cell_type": "code",
   "execution_count": null,
   "id": "10986936",
   "metadata": {},
   "outputs": [],
   "source": [
    "res_dict = tests.run_all_comparisons(target, lim_rows=20000)\n",
    "df_res = tests.dict_to_df(res_dict)\n",
    "df_res.to_csv(\"C:\\\\Users\\\\jonah\\\\projects\\\\SpecSim\\\\allsim_res_3.csv\")"
   ]
  },
  {
   "cell_type": "markdown",
   "id": "ef848167",
   "metadata": {},
   "source": []
  },
  {
   "cell_type": "code",
   "execution_count": null,
   "id": "82d3f951",
   "metadata": {},
   "outputs": [],
   "source": [
    "noise_thresholds=[0.05]\n",
    "centroid_values = [0.05]\n",
    "\n",
    "target = datasetBuilder.get_target_df(\"C:\\\\Users\\\\jonah\\\\School\\\\specent\\\\nist_out.MSP\", noise_thresholds, centroid_values)\n",
    "target=target.sample(frac=1)"
   ]
  },
  {
   "cell_type": "code",
   "execution_count": null,
   "id": "1295cd0e",
   "metadata": {},
   "outputs": [],
   "source": [
    "reload(math_distance)\n",
    "res_dict = tests.run_all_comparisons(target, lim_rows=20000)\n",
    "df_res = tests.dict_to_df(res_dict)\n",
    "df_res.to_csv(\"C:\\\\Users\\\\jonah\\\\projects\\\\SpecSim\\\\allsim_res_full.csv\")"
   ]
  },
  {
   "cell_type": "code",
   "execution_count": null,
   "id": "860df7ba",
   "metadata": {},
   "outputs": [],
   "source": [
    "df_res = tests.dict_to_df(res_dict)\n",
    "df_res.to_csv(\"C:\\\\Users\\\\jonah\\\\projects\\\\SpecSim\\\\allsim_res_2.csv\")"
   ]
  },
  {
   "cell_type": "code",
   "execution_count": null,
   "id": "1ede39df",
   "metadata": {},
   "outputs": [],
   "source": [
    "import spectral_similarity\n",
    "\n",
    "sims=list()\n",
    "for i in spectral_similarity.methods_range:\n",
    "    sims.append(i)\n",
    "    sims.append('max_'+i)\n",
    "    sims.append('min_'+i)\n",
    "    sims.append('ave_'+i)\n",
    "    \n",
    "mod_data = datasetBuilder.create_model_dataset(target, 10, sims, 10, nonspec_features=False, spec_features=False)"
   ]
  },
  {
   "cell_type": "code",
   "execution_count": null,
   "id": "d6c84a11",
   "metadata": {},
   "outputs": [],
   "source": [
    "mod_data=mod_data.iloc[:,1:]\n",
    "mod_data.columns=sims\n",
    "mod_data"
   ]
  },
  {
   "cell_type": "code",
   "execution_count": null,
   "id": "5f0df28d",
   "metadata": {},
   "outputs": [],
   "source": [
    "import scipy.stats\n",
    "scipy.stats.entropy([1 for i in range(10000)])"
   ]
  },
  {
   "cell_type": "code",
   "execution_count": null,
   "id": "ea80c0b3",
   "metadata": {},
   "outputs": [],
   "source": [
    "import numpy as np\n",
    "import plotAndOrderResults"
   ]
  },
  {
   "cell_type": "code",
   "execution_count": null,
   "id": "ee18d166",
   "metadata": {},
   "outputs": [],
   "source": [
    "import pandas as pd\n",
    "df_res=pd.read_csv(\"C:\\\\Users\\\\jonah\\\\projects\\\\SpecSim\\\\allsim_res_4.csv\")"
   ]
  },
  {
   "cell_type": "code",
   "execution_count": null,
   "id": "be656111",
   "metadata": {},
   "outputs": [],
   "source": [
    "plotAndOrderResults.add_evals_to_df(df_res)"
   ]
  },
  {
   "cell_type": "code",
   "execution_count": null,
   "id": "6131a0ae",
   "metadata": {},
   "outputs": [],
   "source": [
    "plotAndOrderResults.order_criterion_from_df(df_res)"
   ]
  },
  {
   "cell_type": "code",
   "execution_count": null,
   "id": "7992f593",
   "metadata": {},
   "outputs": [],
   "source": [
    "plotAndOrderResults.order_criterion_from_df(df_res)"
   ]
  },
  {
   "cell_type": "code",
   "execution_count": null,
   "id": "5267a1b7",
   "metadata": {},
   "outputs": [],
   "source": [
    "\n"
   ]
  },
  {
   "cell_type": "code",
   "execution_count": null,
   "id": "3f1c015d",
   "metadata": {},
   "outputs": [],
   "source": [
    "yool = spectral_similarity.multiple_similarity(b,a, ms2_da=0.05, methods=['max_lorentzian','reverse_lorentzian'])"
   ]
  },
  {
   "cell_type": "code",
   "execution_count": null,
   "id": "a0d479e9",
   "metadata": {},
   "outputs": [],
   "source": [
    "yool['reverse_lorentzian']"
   ]
  },
  {
   "cell_type": "code",
   "execution_count": null,
   "id": "92b6648a",
   "metadata": {},
   "outputs": [],
   "source": [
    "a"
   ]
  },
  {
   "cell_type": "code",
   "execution_count": null,
   "id": "ae6defbb",
   "metadata": {},
   "outputs": [],
   "source": [
    "yool['reverse_entropy']"
   ]
  },
  {
   "cell_type": "code",
   "execution_count": null,
   "id": "d21c4130",
   "metadata": {},
   "outputs": [],
   "source": [
    "match = tools.match_peaks_in_spectra(a,b, ms2_da=0.05)"
   ]
  },
  {
   "cell_type": "code",
   "execution_count": null,
   "id": "95f3235f",
   "metadata": {},
   "outputs": [],
   "source": [
    "import math_distance"
   ]
  },
  {
   "cell_type": "code",
   "execution_count": null,
   "id": "e457e444",
   "metadata": {},
   "outputs": [],
   "source": [
    "math_distance._select_common_peaks(a,b)"
   ]
  },
  {
   "cell_type": "code",
   "execution_count": null,
   "id": "61654785",
   "metadata": {},
   "outputs": [],
   "source": [
    "yool = a>0"
   ]
  },
  {
   "cell_type": "code",
   "execution_count": null,
   "id": "ea961519",
   "metadata": {},
   "outputs": [],
   "source": [
    "yool"
   ]
  },
  {
   "cell_type": "code",
   "execution_count": null,
   "id": "bd4f5315",
   "metadata": {},
   "outputs": [],
   "source": []
  }
 ],
 "metadata": {
  "hide_input": false,
  "kernelspec": {
   "display_name": "Python 3 (ipykernel)",
   "language": "python",
   "name": "python3"
  },
  "language_info": {
   "codemirror_mode": {
    "name": "ipython",
    "version": 3
   },
   "file_extension": ".py",
   "mimetype": "text/x-python",
   "name": "python",
   "nbconvert_exporter": "python",
   "pygments_lexer": "ipython3",
   "version": "3.9.12"
  },
  "toc": {
   "base_numbering": 1,
   "nav_menu": {},
   "number_sections": true,
   "sideBar": true,
   "skip_h1_title": false,
   "title_cell": "Table of Contents",
   "title_sidebar": "Contents",
   "toc_cell": false,
   "toc_position": {},
   "toc_section_display": true,
   "toc_window_display": false
  },
  "varInspector": {
   "cols": {
    "lenName": 16,
    "lenType": 16,
    "lenVar": 40
   },
   "kernels_config": {
    "python": {
     "delete_cmd_postfix": "",
     "delete_cmd_prefix": "del ",
     "library": "var_list.py",
     "varRefreshCmd": "print(var_dic_list())"
    },
    "r": {
     "delete_cmd_postfix": ") ",
     "delete_cmd_prefix": "rm(",
     "library": "var_list.r",
     "varRefreshCmd": "cat(var_dic_list()) "
    }
   },
   "types_to_exclude": [
    "module",
    "function",
    "builtin_function_or_method",
    "instance",
    "_Feature"
   ],
   "window_display": false
  }
 },
 "nbformat": 4,
 "nbformat_minor": 5
}
