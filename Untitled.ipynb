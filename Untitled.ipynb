{
 "cells": [
  {
   "cell_type": "code",
   "execution_count": 1,
   "id": "7f65d6f8",
   "metadata": {
    "ExecuteTime": {
     "end_time": "2023-08-13T03:45:16.757600Z",
     "start_time": "2023-08-13T03:45:14.306478Z"
    }
   },
   "outputs": [],
   "source": [
    "import plotAndOrderResults\n"
   ]
  },
  {
   "cell_type": "code",
   "execution_count": 2,
   "id": "4d2ca2fa",
   "metadata": {
    "ExecuteTime": {
     "end_time": "2023-08-13T03:48:05.128401Z",
     "start_time": "2023-08-13T03:48:01.114846Z"
    }
   },
   "outputs": [
    {
     "name": "stdout",
     "output_type": "stream",
     "text": [
      "Top Ranks and Means for 10 PPM\n",
      "Proportion of Time This Metric is Top\n",
      "                                  index     0\n",
      "3                            lorentzian  0.31\n",
      "0                             hellinger  0.22\n",
      "9                           common_mass  0.07\n",
      "1                        max_lorentzian  0.06\n",
      "2                   pearson_correlation  0.05\n",
      "7                      binary_cross_ent  0.05\n",
      "5                     max_jensenshannon  0.03\n",
      "12                    squared_euclidean  0.03\n",
      "13                        entropy_jonah  0.02\n",
      "11       whittaker_index_of_association  0.02\n",
      "10                   max_bhattacharya_1  0.02\n",
      "8                     max_squared_chord  0.02\n",
      "4                    max_bhattacharya_2  0.02\n",
      "6   probabilistic_symmetric_chi_squared  0.01\n",
      "14                        jensenshannon  0.01\n",
      "15                       absolute_value  0.01\n",
      "16                     lorentzian_jonah  0.01\n",
      "17                              entropy  0.01\n",
      "18                max_squared_euclidean  0.01\n",
      "19                        max_manhattan  0.01\n",
      "\n",
      "\n",
      "Mean Ranking By Metric\n",
      "                                  index      0\n",
      "0                             hellinger  32.78\n",
      "1        whittaker_index_of_association  40.18\n",
      "3                    max_bhattacharya_2  21.01\n",
      "4                            lorentzian  12.40\n",
      "5                    max_bhattacharya_1  33.85\n",
      "6                        max_lorentzian  42.48\n",
      "8                     max_squared_chord  29.23\n",
      "12                        max_manhattan  49.01\n",
      "13                          common_mass  32.41\n",
      "17                        entropy_jonah  22.76\n",
      "18                              entropy  22.67\n",
      "19                        jensenshannon  23.16\n",
      "20  probabilistic_symmetric_chi_squared  22.03\n",
      "26                     lorentzian_jonah  19.17\n",
      "31                       absolute_value  25.43\n",
      "52                    max_jensenshannon  35.74\n",
      "53                     binary_cross_ent  29.37\n",
      "58                  pearson_correlation  39.05\n",
      "60                max_squared_euclidean  44.05\n",
      "63                    squared_euclidean  51.38\n",
      "\n",
      "\n"
     ]
    }
   ],
   "source": [
    "plotAndOrderResults.fig1b('/Users/jonahpoczobutt/projects/specsim_res/figOutputs/fig1/fig1b',[10])\n"
   ]
  },
  {
   "cell_type": "code",
   "execution_count": null,
   "id": "10986936",
   "metadata": {},
   "outputs": [],
   "source": [
    "def fig3(input, metrics, quant_variables, quantile_num, output_path):\n",
    "\n",
    "    #create subdirectories by quant variable that has quantile pkls\n",
    "    tests.break_figure_into_quantiles(input, quant_variables, quantile_num, output_path)\n",
    "\n",
    "    for i in os.listdir(output_path):\n",
    "\n",
    "        if not tools.is_digit(i):\n",
    "            continue\n",
    "\n",
    "        aucs = tests.aucs_by_quantile(f'{output_path}\\{i}', metrics)\n",
    "\n",
    "        plot1c_sub(aucs, i)\n",
    "\n",
    "def plot3_sub(quantile_aucs, title):\n",
    "\n",
    "    for key, val in quantile_aucs:\n",
    "\n",
    "        for i in range(len(val)):\n",
    "            \n",
    "            plt.scatter(key, val[i][1], label=val[i][0])\n",
    "\n",
    "    plt.title(title)\n",
    "    plt.xlabel('Quantile')\n",
    "    plt.ylabel('AUC')\n",
    "    plt.legend()\n",
    "    plt.show()\n",
    "        \n",
    "\n",
    "\n"
   ]
  }
 ],
 "metadata": {
  "hide_input": false,
  "kernelspec": {
   "display_name": "Python 3 (ipykernel)",
   "language": "python",
   "name": "python3"
  },
  "language_info": {
   "codemirror_mode": {
    "name": "ipython",
    "version": 3
   },
   "file_extension": ".py",
   "mimetype": "text/x-python",
   "name": "python",
   "nbconvert_exporter": "python",
   "pygments_lexer": "ipython3",
   "version": "3.11.4"
  },
  "toc": {
   "base_numbering": 1,
   "nav_menu": {},
   "number_sections": true,
   "sideBar": true,
   "skip_h1_title": false,
   "title_cell": "Table of Contents",
   "title_sidebar": "Contents",
   "toc_cell": false,
   "toc_position": {},
   "toc_section_display": true,
   "toc_window_display": false
  },
  "varInspector": {
   "cols": {
    "lenName": 16,
    "lenType": 16,
    "lenVar": 40
   },
   "kernels_config": {
    "python": {
     "delete_cmd_postfix": "",
     "delete_cmd_prefix": "del ",
     "library": "var_list.py",
     "varRefreshCmd": "print(var_dic_list())"
    },
    "r": {
     "delete_cmd_postfix": ") ",
     "delete_cmd_prefix": "rm(",
     "library": "var_list.r",
     "varRefreshCmd": "cat(var_dic_list()) "
    }
   },
   "types_to_exclude": [
    "module",
    "function",
    "builtin_function_or_method",
    "instance",
    "_Feature"
   ],
   "window_display": false
  }
 },
 "nbformat": 4,
 "nbformat_minor": 5
}
