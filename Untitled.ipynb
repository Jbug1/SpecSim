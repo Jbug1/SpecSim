{
 "cells": [
  {
   "cell_type": "code",
   "execution_count": 1,
   "id": "7f65d6f8",
   "metadata": {
    "ExecuteTime": {
     "end_time": "2023-08-13T03:45:16.757600Z",
     "start_time": "2023-08-13T03:45:14.306478Z"
    }
   },
   "outputs": [],
   "source": [
    "import datasetBuilder\n",
    "import tools\n"
   ]
  },
  {
   "cell_type": "code",
   "execution_count": 7,
   "id": "4d2ca2fa",
   "metadata": {
    "ExecuteTime": {
     "end_time": "2023-08-13T03:48:05.128401Z",
     "start_time": "2023-08-13T03:48:01.114846Z"
    }
   },
   "outputs": [
    {
     "ename": "KeyboardInterrupt",
     "evalue": "",
     "output_type": "error",
     "traceback": [
      "\u001b[1;31m---------------------------------------------------------------------------\u001b[0m",
      "\u001b[1;31mKeyboardInterrupt\u001b[0m                         Traceback (most recent call last)",
      "Input \u001b[1;32mIn [7]\u001b[0m, in \u001b[0;36m<cell line: 4>\u001b[1;34m()\u001b[0m\n\u001b[0;32m      1\u001b[0m noise_thresholds\u001b[38;5;241m=\u001b[39m[\u001b[38;5;241m0.01\u001b[39m]\n\u001b[0;32m      2\u001b[0m centroid_values \u001b[38;5;241m=\u001b[39m [\u001b[38;5;241m0.05\u001b[39m]\n\u001b[1;32m----> 4\u001b[0m target \u001b[38;5;241m=\u001b[39m \u001b[43mdatasetBuilder\u001b[49m\u001b[38;5;241;43m.\u001b[39;49m\u001b[43mget_target_df\u001b[49m\u001b[43m(\u001b[49m\u001b[38;5;124;43m\"\u001b[39;49m\u001b[38;5;124;43mC:\u001b[39;49m\u001b[38;5;130;43;01m\\\\\u001b[39;49;00m\u001b[38;5;124;43mUsers\u001b[39;49m\u001b[38;5;130;43;01m\\\\\u001b[39;49;00m\u001b[38;5;124;43mjonah\u001b[39;49m\u001b[38;5;130;43;01m\\\\\u001b[39;49;00m\u001b[38;5;124;43mSchool\u001b[39;49m\u001b[38;5;130;43;01m\\\\\u001b[39;49;00m\u001b[38;5;124;43mspecent\u001b[39;49m\u001b[38;5;130;43;01m\\\\\u001b[39;49;00m\u001b[38;5;124;43mnist_out.MSP\u001b[39;49m\u001b[38;5;124;43m\"\u001b[39;49m\u001b[43m,\u001b[49m\u001b[43m \u001b[49m\u001b[43mnoise_thresholds\u001b[49m\u001b[43m,\u001b[49m\u001b[43m \u001b[49m\u001b[43mcentroid_values\u001b[49m\u001b[43m)\u001b[49m\n",
      "File \u001b[1;32m~\\projects\\SpecSim\\datasetBuilder.py:21\u001b[0m, in \u001b[0;36mget_target_df\u001b[1;34m(target_path, noise_thresholds, centroid_values)\u001b[0m\n\u001b[0;32m     18\u001b[0m \u001b[38;5;28;01mdef\u001b[39;00m \u001b[38;5;21mget_target_df\u001b[39m(target_path, noise_thresholds, centroid_values):\n\u001b[0;32m     19\u001b[0m \n\u001b[0;32m     20\u001b[0m     \u001b[38;5;66;03m# get whole dataframe from msp files\u001b[39;00m\n\u001b[1;32m---> 21\u001b[0m     target_df \u001b[38;5;241m=\u001b[39m \u001b[43mconvert_msp_to_df_2\u001b[49m\u001b[43m(\u001b[49m\u001b[43mtarget_path\u001b[49m\u001b[43m)\u001b[49m\n\u001b[0;32m     23\u001b[0m     \u001b[38;5;66;03m# get adduct subsets\u001b[39;00m\n\u001b[0;32m     24\u001b[0m     target_df \u001b[38;5;241m=\u001b[39m get_adduct_subset(target_df)\n",
      "File \u001b[1;32m~\\projects\\SpecSim\\datasetBuilder.py:298\u001b[0m, in \u001b[0;36mconvert_msp_to_df_2\u001b[1;34m(filepath)\u001b[0m\n\u001b[0;32m    295\u001b[0m         instrument_ \u001b[38;5;241m=\u001b[39m splitty[\u001b[38;5;241m1\u001b[39m]\u001b[38;5;241m.\u001b[39mstrip()\n\u001b[0;32m    297\u001b[0m     \u001b[38;5;28;01melif\u001b[39;00m tools\u001b[38;5;241m.\u001b[39mis_digit(splitty[\u001b[38;5;241m0\u001b[39m]\u001b[38;5;241m.\u001b[39msplit()[\u001b[38;5;241m0\u001b[39m]):\n\u001b[1;32m--> 298\u001b[0m         spec\u001b[38;5;241m.\u001b[39mappend([\u001b[38;5;28mfloat\u001b[39m(splitty[\u001b[38;5;241m0\u001b[39m]\u001b[38;5;241m.\u001b[39msplit()[\u001b[38;5;241m0\u001b[39m]), \u001b[38;5;28;43mfloat\u001b[39;49m(splitty[\u001b[38;5;241m0\u001b[39m]\u001b[38;5;241m.\u001b[39msplit()[\u001b[38;5;241m1\u001b[39m])])\n\u001b[0;32m    300\u001b[0m outdict \u001b[38;5;241m=\u001b[39m {\n\u001b[0;32m    301\u001b[0m     \u001b[38;5;124m\"\u001b[39m\u001b[38;5;124mname\u001b[39m\u001b[38;5;124m\"\u001b[39m: names,\n\u001b[0;32m    302\u001b[0m     \u001b[38;5;124m\"\u001b[39m\u001b[38;5;124mmslevel\u001b[39m\u001b[38;5;124m\"\u001b[39m: mslevel,\n\u001b[1;32m   (...)\u001b[0m\n\u001b[0;32m    313\u001b[0m     \u001b[38;5;124m\"\u001b[39m\u001b[38;5;124mspectrum\u001b[39m\u001b[38;5;124m\"\u001b[39m: specs,\n\u001b[0;32m    314\u001b[0m }\n\u001b[0;32m    316\u001b[0m \u001b[38;5;28;01mreturn\u001b[39;00m pd\u001b[38;5;241m.\u001b[39mDataFrame(outdict)\n",
      "\u001b[1;31mKeyboardInterrupt\u001b[0m: "
     ]
    }
   ],
   "source": [
    "noise_thresholds=[0.01]\n",
    "centroid_values = [0.05]\n",
    "\n",
    "target = datasetBuilder.get_target_df(\"C:\\\\Users\\\\jonah\\\\School\\\\specent\\\\nist_out.MSP\", noise_thresholds, centroid_values)"
   ]
  },
  {
   "cell_type": "code",
   "execution_count": null,
   "id": "10986936",
   "metadata": {},
   "outputs": [],
   "source": []
  }
 ],
 "metadata": {
  "hide_input": false,
  "kernelspec": {
   "display_name": "Python 3 (ipykernel)",
   "language": "python",
   "name": "python3"
  },
  "language_info": {
   "codemirror_mode": {
    "name": "ipython",
    "version": 3
   },
   "file_extension": ".py",
   "mimetype": "text/x-python",
   "name": "python",
   "nbconvert_exporter": "python",
   "pygments_lexer": "ipython3",
   "version": "3.9.12"
  },
  "toc": {
   "base_numbering": 1,
   "nav_menu": {},
   "number_sections": true,
   "sideBar": true,
   "skip_h1_title": false,
   "title_cell": "Table of Contents",
   "title_sidebar": "Contents",
   "toc_cell": false,
   "toc_position": {},
   "toc_section_display": true,
   "toc_window_display": false
  },
  "varInspector": {
   "cols": {
    "lenName": 16,
    "lenType": 16,
    "lenVar": 40
   },
   "kernels_config": {
    "python": {
     "delete_cmd_postfix": "",
     "delete_cmd_prefix": "del ",
     "library": "var_list.py",
     "varRefreshCmd": "print(var_dic_list())"
    },
    "r": {
     "delete_cmd_postfix": ") ",
     "delete_cmd_prefix": "rm(",
     "library": "var_list.r",
     "varRefreshCmd": "cat(var_dic_list()) "
    }
   },
   "types_to_exclude": [
    "module",
    "function",
    "builtin_function_or_method",
    "instance",
    "_Feature"
   ],
   "window_display": false
  }
 },
 "nbformat": 4,
 "nbformat_minor": 5
}
