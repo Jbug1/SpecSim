{
 "cells": [
  {
   "cell_type": "code",
   "execution_count": 1,
   "metadata": {},
   "outputs": [],
   "source": [
    "import numpy as np\n",
    "import pandas as pd\n",
    "import datasetBuilder\n",
    "import tests\n",
    "import tools\n",
    "import spectral_similarity"
   ]
  },
  {
   "cell_type": "markdown",
   "metadata": {},
   "source": [
    "Include Basic Tests from all steps of process"
   ]
  },
  {
   "cell_type": "code",
   "execution_count": 2,
   "metadata": {},
   "outputs": [
    {
     "data": {
      "text/plain": [
       "0.0015999999999999999"
      ]
     },
     "execution_count": 2,
     "metadata": {},
     "output_type": "execute_result"
    }
   ],
   "source": [
    "#ppm\n",
    "\n",
    "#print ppm for a given precursor and ppm discrepancy\n",
    "#all precursors within the output below of the precursor are within X ppm \n",
    "tools.ppm(400,4)"
   ]
  },
  {
   "cell_type": "markdown",
   "metadata": {},
   "source": [
    "Test to see that our similarity methods match the results from original paper with test specs:\n",
    "\n",
    "Unweighted should be 0.9826\n",
    "Weighted should be 0.8984"
   ]
  },
  {
   "cell_type": "code",
   "execution_count": 3,
   "metadata": {},
   "outputs": [
    {
     "name": "stdout",
     "output_type": "stream",
     "text": [
      "unweighted_entropy similarity: 0.9826668214969606\n",
      "entropy similarity: 0.8984397739652141\n"
     ]
    }
   ],
   "source": [
    "#verify all similarity score results are the same under default settings as orig paper\n",
    "#the result should read identical to below markdown cell\n",
    "#show results for 'unweighted entropy' and 'entropy' here as defined in orig paper\n",
    "\n",
    "spec_query = np.array([[69.071, 7.917962], [86.066, 1.021589], [86.0969, 100.0]], dtype=np.float32)\n",
    "spec_reference = np.array([[41.04, 37.16], [69.07, 66.83], [86.1, 999.0]], dtype=np.float32)\n",
    "\n",
    "#no weighting but normal cleaning scheme first\n",
    "method='entropy'\n",
    "spec_query = tools.clean_spectrum(spec_query)\n",
    "spec_reference = tools.clean_spectrum(spec_reference)\n",
    "merged = tools.match_peaks_in_spectra(spec_query, spec_reference, ms2_da=0.05)\n",
    "similarity = 1- spectral_similarity.distance(merged,method)\n",
    "print(f\"unweighted_{method} similarity: {similarity}\")\n",
    "\n",
    "#now do weighting scheme from original \n",
    "spec_query = tools.weight_intensity(spec_query, power='orig')\n",
    "spec_reference = tools.weight_intensity(spec_reference, power='orig')\n",
    "\n",
    "merged = tools.match_peaks_in_spectra(spec_query, spec_reference, ms2_da=0.05)\n",
    "similarity = 1- spectral_similarity.distance(merged,method)\n",
    "print(f\"{method} similarity: {similarity}\")\n"
   ]
  },
  {
   "cell_type": "markdown",
   "metadata": {},
   "source": [
    "Now we will go through the dataset creation proces to make sure all steps look sensible. This is how we gather data for testing individual metrics and training/evaluating models"
   ]
  },
  {
   "cell_type": "code",
   "execution_count": 4,
   "metadata": {},
   "outputs": [],
   "source": [
    "query = pd.read_pickle('/Users/jonahpoczobutt/projects/raw_data/db_csvs/metlin_highres.pkl')\n",
    "target = pd.read_pickle('/Users/jonahpoczobutt/projects/raw_data/db_csvs/nist14_highres.pkl')\n",
    "samp=query.iloc[0:1]"
   ]
  },
  {
   "cell_type": "markdown",
   "metadata": {},
   "source": [
    "User can toggle the parameters of create_matches_df in order to see how the potential matches change\n",
    "\n",
    "Compare this result to doing filtering manually"
   ]
  },
  {
   "cell_type": "code",
   "execution_count": 20,
   "metadata": {},
   "outputs": [
    {
     "name": "stdout",
     "output_type": "stream",
     "text": [
      "total number of query spectra considered: 33\n",
      "total inchicores seen: 1\n",
      "length matches: True\n"
     ]
    }
   ],
   "source": [
    "ppm_window = 40\n",
    "max_rows_per_query=None\n",
    "max_len=1e4\n",
    "Adduct_match=True\n",
    "\n",
    "matches = datasetBuilder.create_matches_df_new(samp, target, ppm_window, max_rows_per_query,max_len, Adduct_match)\n",
    "\n",
    "#first do manual ppm filter\n",
    "matches_manual = target[(abs(samp.iloc[0][\"precursor\"] - target[\"precursor\"])< tools.ppm(samp.iloc[0][\"precursor\"], ppm_window))]\n",
    "\n",
    "#then do adduct match\n",
    "matches_manual=matches_manual[matches_manual['precursor_type']==samp.iloc[0]['precursor_type']]\n",
    "\n",
    "print(f\"length matches: {len(matches_manual)==len(matches)}\")"
   ]
  },
  {
   "cell_type": "markdown",
   "metadata": {},
   "source": [
    "Once matches df is made, we can grab similarity metrics"
   ]
  },
  {
   "cell_type": "code",
   "execution_count": 6,
   "metadata": {},
   "outputs": [],
   "source": [
    "sim_methods = ['entropy']\n",
    "samp_dataset = datasetBuilder.create_model_dataset(matches, sim_methods)"
   ]
  },
  {
   "cell_type": "markdown",
   "metadata": {},
   "source": [
    "And Verify that Entropy is the same as What appears in dataset when we calc separately...same protocol as before\n"
   ]
  },
  {
   "cell_type": "code",
   "execution_count": 12,
   "metadata": {},
   "outputs": [
    {
     "name": "stdout",
     "output_type": "stream",
     "text": [
      "entropy similarity: 0.18094230249677656\n",
      "samp dataset value: 0.18094230249677656\n"
     ]
    }
   ],
   "source": [
    "spec_query  = matches.iloc[0]['query']\n",
    "spec_reference  = matches.iloc[0]['target']\n",
    "\n",
    "precursor_query=matches.iloc[0]['precquery']\n",
    "prectarget = matches.iloc[0]['prectarget']\n",
    "\n",
    "#remove precursors\n",
    "below_prec_indices = np.where(\n",
    "        spec_query[:, 0] < (precursor_query - tools.ppm(precursor_query, 3))\n",
    "    )\n",
    "\n",
    "spec_query = spec_query[below_prec_indices]\n",
    "\n",
    "\n",
    "method='entropy'\n",
    "spec_query = tools.clean_spectrum(spec_query)\n",
    "spec_reference = tools.clean_spectrum(spec_reference) \n",
    "spec_query = tools.weight_intensity(spec_query, power='orig')\n",
    "spec_reference = tools.weight_intensity(spec_reference, power='orig')\n",
    "merged = tools.match_peaks_in_spectra(spec_query, spec_reference, ms2_da=0.05)\n",
    "similarity = 1- spectral_similarity.distance(merged,method)\n",
    "print(f\"{method} similarity: {similarity}\")\n",
    "print(f\"samp dataset value: {samp_dataset.iloc[0,-2]}\")\n",
    "\n"
   ]
  },
  {
   "cell_type": "code",
   "execution_count": null,
   "metadata": {},
   "outputs": [],
   "source": []
  }
 ],
 "metadata": {
  "kernelspec": {
   "display_name": "base",
   "language": "python",
   "name": "python3"
  },
  "language_info": {
   "codemirror_mode": {
    "name": "ipython",
    "version": 3
   },
   "file_extension": ".py",
   "mimetype": "text/x-python",
   "name": "python",
   "nbconvert_exporter": "python",
   "pygments_lexer": "ipython3",
   "version": "3.11.4"
  },
  "orig_nbformat": 4
 },
 "nbformat": 4,
 "nbformat_minor": 2
}
